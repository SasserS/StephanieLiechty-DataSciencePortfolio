{
  "nbformat": 4,
  "nbformat_minor": 0,
  "metadata": {
    "colab": {
      "provenance": []
    },
    "kernelspec": {
      "name": "python3",
      "display_name": "Python 3"
    },
    "language_info": {
      "name": "python"
    }
  },
  "cells": [
    {
      "cell_type": "code",
      "execution_count": null,
      "metadata": {
        "id": "fSoF7iLRshOl"
      },
      "outputs": [],
      "source": [
        "import streamlit as st\n",
        "import openai\n",
        "from PIL import Image\n",
        "\n",
        "\n",
        "def ask_question(question, chat_log):\n",
        "    if len(chat_log) == 0:\n",
        "\n",
        "        chat_log.append({\"role\": \"system\", \"content\": \"You are a very gentle and experienced parent that many other parents turn to for advice and comfort.\"})\n",
        "\n",
        "    if len(chat_log) >= 12:\n",
        "        chat_log = chat_log[-12:]\n",
        "\n",
        "    chat_log.append({\"role\": \"user\", \"content\": question})\n",
        "\n",
        "    response = openai.ChatCompletion.create(\n",
        "        model=\"gpt-3.5-turbo\",\n",
        "        messages=chat_log,\n",
        "        max_tokens=150\n",
        "    )\n",
        "    answer = response.choices[0].message['content']\n",
        "    chat_log.append({\"role\": \"assistant\", \"content\": answer})\n",
        "    return answer, chat_log\n",
        "\n",
        "\n",
        "chat_log = []\n",
        "\n",
        "\n",
        "# Replace 'yourfile.txt' with the name of your uploaded file\n",
        "with open('C:\\\\Users\\\\steph\\\\OneDrive\\\\Documents\\\\OpenAPI.txt', 'r') as file:\n",
        "    secret_key = file.read().strip()  # Read the file and strip any extra whitespace\n",
        "\n",
        "openai.api_key = secret_key\n",
        "\n",
        "\n",
        "# Streamlit app layout\n",
        "st.title('Virtual Parenting Assistant')\n",
        "\n",
        "# Display the logo\n",
        "logo_path = \"C:\\\\Users\\\\steph\\\\OneDrive\\\\Documents\\\\ParentingAdviceAI.png\"  # Replace with the path to the logo file\n",
        "logo = Image.open(logo_path)\n",
        "st.image(logo, caption='Virtual Parenting Assistant')\n",
        "\n",
        "# Text input for the question\n",
        "question = st.text_input('What advice would you like to recieve about parenting?', '')\n",
        "\n",
        "# Button to submit the question\n",
        "if st.button('Ask'):\n",
        "    if question:\n",
        "        answer, chat_log = ask_question(question, chat_log)\n",
        "        for message in chat_log[1:]: # Start from index 1 to skip system message\n",
        "            role = message['role'].title()\n",
        "            content = message['content']\n",
        "            st.text(f\"{role}: {content}\")"
      ]
    }
  ]
}